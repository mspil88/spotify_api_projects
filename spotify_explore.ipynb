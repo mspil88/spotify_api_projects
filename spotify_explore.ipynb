{
 "cells": [
  {
   "cell_type": "markdown",
   "metadata": {},
   "source": [
    "## A quick analysis of my Spotify account \n",
    "\n",
    "### NB: Plotly charts do not render very well in png format!"
   ]
  },
  {
   "cell_type": "code",
   "execution_count": 1,
   "metadata": {},
   "outputs": [],
   "source": [
    "from secrets import *\n",
    "from spotify_user import *\n",
    "import plotly.express as px\n",
    "from datetime import datetime, timedelta\n",
    "from dateutil.parser import parse\n",
    "import calendar\n"
   ]
  },
  {
   "cell_type": "code",
   "execution_count": 2,
   "metadata": {},
   "outputs": [],
   "source": [
    "pd.set_option('display.max_colwidth', 100)\n",
    "s = SpotifyUser(OAUTH_TOKEN, CLIENT_ID, USER_ID)"
   ]
  },
  {
   "cell_type": "markdown",
   "metadata": {},
   "source": [
    "### My last played tracks"
   ]
  },
  {
   "cell_type": "code",
   "execution_count": 3,
   "metadata": {},
   "outputs": [
    {
     "data": {
      "text/html": [
       "<div>\n",
       "<style scoped>\n",
       "    .dataframe tbody tr th:only-of-type {\n",
       "        vertical-align: middle;\n",
       "    }\n",
       "\n",
       "    .dataframe tbody tr th {\n",
       "        vertical-align: top;\n",
       "    }\n",
       "\n",
       "    .dataframe thead th {\n",
       "        text-align: right;\n",
       "    }\n",
       "</style>\n",
       "<table border=\"1\" class=\"dataframe\">\n",
       "  <thead>\n",
       "    <tr style=\"text-align: right;\">\n",
       "      <th></th>\n",
       "      <th>artist</th>\n",
       "      <th>song</th>\n",
       "    </tr>\n",
       "  </thead>\n",
       "  <tbody>\n",
       "    <tr>\n",
       "      <th>0</th>\n",
       "      <td>Donald Byrd</td>\n",
       "      <td>I Feel Like Loving You Today</td>\n",
       "    </tr>\n",
       "    <tr>\n",
       "      <th>1</th>\n",
       "      <td>Gábor Szabó</td>\n",
       "      <td>Theme For Gabor</td>\n",
       "    </tr>\n",
       "    <tr>\n",
       "      <th>2</th>\n",
       "      <td>Soft Machine</td>\n",
       "      <td>Hazard Profile Part 1</td>\n",
       "    </tr>\n",
       "    <tr>\n",
       "      <th>3</th>\n",
       "      <td>John Klemmer</td>\n",
       "      <td>Glass Dolphins</td>\n",
       "    </tr>\n",
       "    <tr>\n",
       "      <th>4</th>\n",
       "      <td>Henry Mancini</td>\n",
       "      <td>Moon River - Remastered</td>\n",
       "    </tr>\n",
       "    <tr>\n",
       "      <th>5</th>\n",
       "      <td>Lewis Parker</td>\n",
       "      <td>A Thousand Fragments</td>\n",
       "    </tr>\n",
       "    <tr>\n",
       "      <th>6</th>\n",
       "      <td>Lewis Parker</td>\n",
       "      <td>A Thousand Fragments</td>\n",
       "    </tr>\n",
       "    <tr>\n",
       "      <th>7</th>\n",
       "      <td>Cunninlynguists</td>\n",
       "      <td>Clap</td>\n",
       "    </tr>\n",
       "    <tr>\n",
       "      <th>8</th>\n",
       "      <td>J. Depina</td>\n",
       "      <td>Night Walk</td>\n",
       "    </tr>\n",
       "    <tr>\n",
       "      <th>9</th>\n",
       "      <td>Cunninlynguists</td>\n",
       "      <td>Cornasto</td>\n",
       "    </tr>\n",
       "    <tr>\n",
       "      <th>10</th>\n",
       "      <td>Prodigy</td>\n",
       "      <td>Three (featuring Cormega)</td>\n",
       "    </tr>\n",
       "    <tr>\n",
       "      <th>11</th>\n",
       "      <td>Cunninlynguists</td>\n",
       "      <td>Hustlers</td>\n",
       "    </tr>\n",
       "    <tr>\n",
       "      <th>12</th>\n",
       "      <td>Cunninlynguists</td>\n",
       "      <td>Hustlers</td>\n",
       "    </tr>\n",
       "    <tr>\n",
       "      <th>13</th>\n",
       "      <td>Cunninlynguists</td>\n",
       "      <td>Red Bird</td>\n",
       "    </tr>\n",
       "    <tr>\n",
       "      <th>14</th>\n",
       "      <td>Cunninlynguists</td>\n",
       "      <td>Innerspace (feat. Toby)</td>\n",
       "    </tr>\n",
       "    <tr>\n",
       "      <th>15</th>\n",
       "      <td>Cunninlynguists</td>\n",
       "      <td>Any Way The Wind Blows</td>\n",
       "    </tr>\n",
       "    <tr>\n",
       "      <th>16</th>\n",
       "      <td>Lewis Parker</td>\n",
       "      <td>Incognito</td>\n",
       "    </tr>\n",
       "    <tr>\n",
       "      <th>17</th>\n",
       "      <td>Mobb Deep</td>\n",
       "      <td>Cradle to the Grave</td>\n",
       "    </tr>\n",
       "    <tr>\n",
       "      <th>18</th>\n",
       "      <td>JAY-Z</td>\n",
       "      <td>In My Lifetime - Remix</td>\n",
       "    </tr>\n",
       "    <tr>\n",
       "      <th>19</th>\n",
       "      <td>Apollo Brown</td>\n",
       "      <td>Spoils to the Victor</td>\n",
       "    </tr>\n",
       "  </tbody>\n",
       "</table>\n",
       "</div>"
      ],
      "text/plain": [
       "             artist                          song\n",
       "0       Donald Byrd  I Feel Like Loving You Today\n",
       "1       Gábor Szabó               Theme For Gabor\n",
       "2      Soft Machine         Hazard Profile Part 1\n",
       "3      John Klemmer                Glass Dolphins\n",
       "4     Henry Mancini       Moon River - Remastered\n",
       "5      Lewis Parker          A Thousand Fragments\n",
       "6      Lewis Parker          A Thousand Fragments\n",
       "7   Cunninlynguists                          Clap\n",
       "8         J. Depina                    Night Walk\n",
       "9   Cunninlynguists                      Cornasto\n",
       "10          Prodigy     Three (featuring Cormega)\n",
       "11  Cunninlynguists                      Hustlers\n",
       "12  Cunninlynguists                      Hustlers\n",
       "13  Cunninlynguists                      Red Bird\n",
       "14  Cunninlynguists       Innerspace (feat. Toby)\n",
       "15  Cunninlynguists        Any Way The Wind Blows\n",
       "16     Lewis Parker                     Incognito\n",
       "17        Mobb Deep           Cradle to the Grave\n",
       "18            JAY-Z        In My Lifetime - Remix\n",
       "19     Apollo Brown          Spoils to the Victor"
      ]
     },
     "execution_count": 3,
     "metadata": {},
     "output_type": "execute_result"
    }
   ],
   "source": [
    "s.last_played_tracks(limit=20)"
   ]
  },
  {
   "cell_type": "markdown",
   "metadata": {},
   "source": [
    "### My playlists"
   ]
  },
  {
   "cell_type": "code",
   "execution_count": 4,
   "metadata": {},
   "outputs": [],
   "source": [
    "playlists = s.get_playlists()"
   ]
  },
  {
   "cell_type": "code",
   "execution_count": 5,
   "metadata": {},
   "outputs": [
    {
     "data": {
      "text/html": [
       "<div>\n",
       "<style scoped>\n",
       "    .dataframe tbody tr th:only-of-type {\n",
       "        vertical-align: middle;\n",
       "    }\n",
       "\n",
       "    .dataframe tbody tr th {\n",
       "        vertical-align: top;\n",
       "    }\n",
       "\n",
       "    .dataframe thead th {\n",
       "        text-align: right;\n",
       "    }\n",
       "</style>\n",
       "<table border=\"1\" class=\"dataframe\">\n",
       "  <thead>\n",
       "    <tr style=\"text-align: right;\">\n",
       "      <th></th>\n",
       "      <th>name</th>\n",
       "      <th>tracks_link</th>\n",
       "      <th>total_tracks</th>\n",
       "    </tr>\n",
       "  </thead>\n",
       "  <tbody>\n",
       "    <tr>\n",
       "      <th>0</th>\n",
       "      <td>esoteric_jazz</td>\n",
       "      <td>https://api.spotify.com/v1/playlists/3Y3wdueMec0I1Arzxy2u7q/tracks</td>\n",
       "      <td>142</td>\n",
       "    </tr>\n",
       "    <tr>\n",
       "      <th>1</th>\n",
       "      <td>Doom</td>\n",
       "      <td>https://api.spotify.com/v1/playlists/4Cd3tuySmVNveCQyPEOTuc/tracks</td>\n",
       "      <td>55</td>\n",
       "    </tr>\n",
       "    <tr>\n",
       "      <th>2</th>\n",
       "      <td>metal/alternative</td>\n",
       "      <td>https://api.spotify.com/v1/playlists/3B6Mo7x1fAbhESw5NTgkMs/tracks</td>\n",
       "      <td>10</td>\n",
       "    </tr>\n",
       "    <tr>\n",
       "      <th>3</th>\n",
       "      <td>journey through 92-98</td>\n",
       "      <td>https://api.spotify.com/v1/playlists/2MjYdZrL3oWza1T8J0NQtD/tracks</td>\n",
       "      <td>133</td>\n",
       "    </tr>\n",
       "    <tr>\n",
       "      <th>4</th>\n",
       "      <td>other non hiphop</td>\n",
       "      <td>https://api.spotify.com/v1/playlists/5Fj6lBYcw8SO9QceJokuNK/tracks</td>\n",
       "      <td>98</td>\n",
       "    </tr>\n",
       "    <tr>\n",
       "      <th>5</th>\n",
       "      <td>wedding</td>\n",
       "      <td>https://api.spotify.com/v1/playlists/3VpMi1RrxiH5evTH4B344e/tracks</td>\n",
       "      <td>33</td>\n",
       "    </tr>\n",
       "    <tr>\n",
       "      <th>6</th>\n",
       "      <td>desi beats</td>\n",
       "      <td>https://api.spotify.com/v1/playlists/5vFl81ORmPSibHM5u1rnIq/tracks</td>\n",
       "      <td>29</td>\n",
       "    </tr>\n",
       "    <tr>\n",
       "      <th>7</th>\n",
       "      <td>metal etc</td>\n",
       "      <td>https://api.spotify.com/v1/playlists/0akZ9mU7oCF9HMSexa4INY/tracks</td>\n",
       "      <td>66</td>\n",
       "    </tr>\n",
       "    <tr>\n",
       "      <th>8</th>\n",
       "      <td>hardcore hiphop</td>\n",
       "      <td>https://api.spotify.com/v1/playlists/7vOqIAWAKTJaSIsytMI5Ih/tracks</td>\n",
       "      <td>2773</td>\n",
       "    </tr>\n",
       "  </tbody>\n",
       "</table>\n",
       "</div>"
      ],
      "text/plain": [
       "                    name  \\\n",
       "0          esoteric_jazz   \n",
       "1                   Doom   \n",
       "2      metal/alternative   \n",
       "3  journey through 92-98   \n",
       "4       other non hiphop   \n",
       "5                wedding   \n",
       "6             desi beats   \n",
       "7              metal etc   \n",
       "8        hardcore hiphop   \n",
       "\n",
       "                                                          tracks_link  \\\n",
       "0  https://api.spotify.com/v1/playlists/3Y3wdueMec0I1Arzxy2u7q/tracks   \n",
       "1  https://api.spotify.com/v1/playlists/4Cd3tuySmVNveCQyPEOTuc/tracks   \n",
       "2  https://api.spotify.com/v1/playlists/3B6Mo7x1fAbhESw5NTgkMs/tracks   \n",
       "3  https://api.spotify.com/v1/playlists/2MjYdZrL3oWza1T8J0NQtD/tracks   \n",
       "4  https://api.spotify.com/v1/playlists/5Fj6lBYcw8SO9QceJokuNK/tracks   \n",
       "5  https://api.spotify.com/v1/playlists/3VpMi1RrxiH5evTH4B344e/tracks   \n",
       "6  https://api.spotify.com/v1/playlists/5vFl81ORmPSibHM5u1rnIq/tracks   \n",
       "7  https://api.spotify.com/v1/playlists/0akZ9mU7oCF9HMSexa4INY/tracks   \n",
       "8  https://api.spotify.com/v1/playlists/7vOqIAWAKTJaSIsytMI5Ih/tracks   \n",
       "\n",
       "   total_tracks  \n",
       "0           142  \n",
       "1            55  \n",
       "2            10  \n",
       "3           133  \n",
       "4            98  \n",
       "5            33  \n",
       "6            29  \n",
       "7            66  \n",
       "8          2773  "
      ]
     },
     "execution_count": 5,
     "metadata": {},
     "output_type": "execute_result"
    }
   ],
   "source": [
    "playlists"
   ]
  },
  {
   "cell_type": "markdown",
   "metadata": {},
   "source": [
    "### Get all the tracks in 'hardcore hiphop'"
   ]
  },
  {
   "cell_type": "code",
   "execution_count": 6,
   "metadata": {},
   "outputs": [],
   "source": [
    "hiphop_tracks = s.get_playlist_tracks('hardcore hiphop', get_all=True)"
   ]
  },
  {
   "cell_type": "code",
   "execution_count": 7,
   "metadata": {},
   "outputs": [
    {
     "data": {
      "text/plain": [
       "(2773, 5)"
      ]
     },
     "execution_count": 7,
     "metadata": {},
     "output_type": "execute_result"
    }
   ],
   "source": [
    "hiphop_tracks.shape"
   ]
  },
  {
   "cell_type": "code",
   "execution_count": 8,
   "metadata": {},
   "outputs": [
    {
     "data": {
      "text/html": [
       "<div>\n",
       "<style scoped>\n",
       "    .dataframe tbody tr th:only-of-type {\n",
       "        vertical-align: middle;\n",
       "    }\n",
       "\n",
       "    .dataframe tbody tr th {\n",
       "        vertical-align: top;\n",
       "    }\n",
       "\n",
       "    .dataframe thead th {\n",
       "        text-align: right;\n",
       "    }\n",
       "</style>\n",
       "<table border=\"1\" class=\"dataframe\">\n",
       "  <thead>\n",
       "    <tr style=\"text-align: right;\">\n",
       "      <th></th>\n",
       "      <th>artists</th>\n",
       "      <th>tracks</th>\n",
       "      <th>release_date</th>\n",
       "      <th>duration</th>\n",
       "      <th>date_added</th>\n",
       "    </tr>\n",
       "  </thead>\n",
       "  <tbody>\n",
       "    <tr>\n",
       "      <th>0</th>\n",
       "      <td>Capone-N-Noreaga, Mobb Deep, Tragedy Khadafi</td>\n",
       "      <td>L.A., L.A. - Kuwait Mix</td>\n",
       "      <td>1997-06-17</td>\n",
       "      <td>289666</td>\n",
       "      <td>2018-06-26T10:50:39Z</td>\n",
       "    </tr>\n",
       "    <tr>\n",
       "      <th>1</th>\n",
       "      <td>Mack 10, Tha Dogg Pound</td>\n",
       "      <td>Nothin' But The Cavi Hit</td>\n",
       "      <td>2007-01-01</td>\n",
       "      <td>241360</td>\n",
       "      <td>2018-06-26T10:50:56Z</td>\n",
       "    </tr>\n",
       "    <tr>\n",
       "      <th>2</th>\n",
       "      <td>Showbiz &amp; A.G.</td>\n",
       "      <td>Next Level - Nyte Time Mix</td>\n",
       "      <td>2017-09-01</td>\n",
       "      <td>250780</td>\n",
       "      <td>2018-06-26T10:53:34Z</td>\n",
       "    </tr>\n",
       "    <tr>\n",
       "      <th>3</th>\n",
       "      <td>Showbiz &amp; A.G., Big Pun, KRS-One</td>\n",
       "      <td>Drop It Heavy</td>\n",
       "      <td>1998-05-24</td>\n",
       "      <td>250066</td>\n",
       "      <td>2018-06-26T10:54:03Z</td>\n",
       "    </tr>\n",
       "    <tr>\n",
       "      <th>4</th>\n",
       "      <td>Showbiz &amp; A.G.</td>\n",
       "      <td>Hold Mines</td>\n",
       "      <td>1998-05-24</td>\n",
       "      <td>234253</td>\n",
       "      <td>2018-06-26T10:54:57Z</td>\n",
       "    </tr>\n",
       "  </tbody>\n",
       "</table>\n",
       "</div>"
      ],
      "text/plain": [
       "                                        artists                      tracks  \\\n",
       "0  Capone-N-Noreaga, Mobb Deep, Tragedy Khadafi     L.A., L.A. - Kuwait Mix   \n",
       "1                       Mack 10, Tha Dogg Pound    Nothin' But The Cavi Hit   \n",
       "2                                Showbiz & A.G.  Next Level - Nyte Time Mix   \n",
       "3              Showbiz & A.G., Big Pun, KRS-One               Drop It Heavy   \n",
       "4                                Showbiz & A.G.                  Hold Mines   \n",
       "\n",
       "  release_date  duration            date_added  \n",
       "0   1997-06-17    289666  2018-06-26T10:50:39Z  \n",
       "1   2007-01-01    241360  2018-06-26T10:50:56Z  \n",
       "2   2017-09-01    250780  2018-06-26T10:53:34Z  \n",
       "3   1998-05-24    250066  2018-06-26T10:54:03Z  \n",
       "4   1998-05-24    234253  2018-06-26T10:54:57Z  "
      ]
     },
     "execution_count": 8,
     "metadata": {},
     "output_type": "execute_result"
    }
   ],
   "source": [
    "hiphop_tracks.head()"
   ]
  },
  {
   "cell_type": "code",
   "execution_count": 9,
   "metadata": {},
   "outputs": [],
   "source": [
    "def process_playlist_tracks(playlist_df):\n",
    "    \n",
    "    def hour_rounder(t):\n",
    "        return (t.replace(second=0, microsecond=0, minute=0, hour=t.hour)\n",
    "                   +timedelta(hours=t.minute//30))    \n",
    "    playlist_df['release_year'] = playlist_df['release_date'].apply(lambda x: int(x[:4]))\n",
    "    playlist_df['date_added_dt'] = playlist_df['date_added'].apply(lambda x: datetime.fromisoformat(x[:-1]))\n",
    "    playlist_df['day_added'] = playlist_df['date_added_dt'].apply(lambda x: calendar.day_name[x.weekday()])\n",
    "    playlist_df['date_added_yyyymmdd'] = playlist_df['date_added_dt'].apply(lambda x: x.strftime('%Y-%m-%d'))\n",
    "    playlist_df['rounded_hour_added'] = playlist_df['date_added_dt'].apply(lambda x: hour_rounder(x).strftime('%H:%M:%S'))\n",
    "    playlist_df['total_artists'] = playlist_df['artists'].apply(lambda x: len(x.split(',')))\n",
    "    \n",
    "    return playlist_df\n"
   ]
  },
  {
   "cell_type": "code",
   "execution_count": 10,
   "metadata": {},
   "outputs": [],
   "source": [
    "hiphop_df = process_playlist_tracks(hiphop_tracks)"
   ]
  },
  {
   "cell_type": "code",
   "execution_count": 11,
   "metadata": {},
   "outputs": [
    {
     "data": {
      "text/html": [
       "<div>\n",
       "<style scoped>\n",
       "    .dataframe tbody tr th:only-of-type {\n",
       "        vertical-align: middle;\n",
       "    }\n",
       "\n",
       "    .dataframe tbody tr th {\n",
       "        vertical-align: top;\n",
       "    }\n",
       "\n",
       "    .dataframe thead th {\n",
       "        text-align: right;\n",
       "    }\n",
       "</style>\n",
       "<table border=\"1\" class=\"dataframe\">\n",
       "  <thead>\n",
       "    <tr style=\"text-align: right;\">\n",
       "      <th></th>\n",
       "      <th>artists</th>\n",
       "      <th>tracks</th>\n",
       "      <th>release_date</th>\n",
       "      <th>duration</th>\n",
       "      <th>date_added</th>\n",
       "      <th>release_year</th>\n",
       "      <th>date_added_dt</th>\n",
       "      <th>day_added</th>\n",
       "      <th>date_added_yyyymmdd</th>\n",
       "      <th>rounded_hour_added</th>\n",
       "      <th>total_artists</th>\n",
       "    </tr>\n",
       "  </thead>\n",
       "  <tbody>\n",
       "    <tr>\n",
       "      <th>0</th>\n",
       "      <td>Capone-N-Noreaga, Mobb Deep, Tragedy Khadafi</td>\n",
       "      <td>L.A., L.A. - Kuwait Mix</td>\n",
       "      <td>1997-06-17</td>\n",
       "      <td>289666</td>\n",
       "      <td>2018-06-26T10:50:39Z</td>\n",
       "      <td>1997</td>\n",
       "      <td>2018-06-26 10:50:39</td>\n",
       "      <td>Tuesday</td>\n",
       "      <td>2018-06-26</td>\n",
       "      <td>11:00:00</td>\n",
       "      <td>3</td>\n",
       "    </tr>\n",
       "    <tr>\n",
       "      <th>1</th>\n",
       "      <td>Mack 10, Tha Dogg Pound</td>\n",
       "      <td>Nothin' But The Cavi Hit</td>\n",
       "      <td>2007-01-01</td>\n",
       "      <td>241360</td>\n",
       "      <td>2018-06-26T10:50:56Z</td>\n",
       "      <td>2007</td>\n",
       "      <td>2018-06-26 10:50:56</td>\n",
       "      <td>Tuesday</td>\n",
       "      <td>2018-06-26</td>\n",
       "      <td>11:00:00</td>\n",
       "      <td>2</td>\n",
       "    </tr>\n",
       "    <tr>\n",
       "      <th>2</th>\n",
       "      <td>Showbiz &amp; A.G.</td>\n",
       "      <td>Next Level - Nyte Time Mix</td>\n",
       "      <td>2017-09-01</td>\n",
       "      <td>250780</td>\n",
       "      <td>2018-06-26T10:53:34Z</td>\n",
       "      <td>2017</td>\n",
       "      <td>2018-06-26 10:53:34</td>\n",
       "      <td>Tuesday</td>\n",
       "      <td>2018-06-26</td>\n",
       "      <td>11:00:00</td>\n",
       "      <td>1</td>\n",
       "    </tr>\n",
       "    <tr>\n",
       "      <th>3</th>\n",
       "      <td>Showbiz &amp; A.G., Big Pun, KRS-One</td>\n",
       "      <td>Drop It Heavy</td>\n",
       "      <td>1998-05-24</td>\n",
       "      <td>250066</td>\n",
       "      <td>2018-06-26T10:54:03Z</td>\n",
       "      <td>1998</td>\n",
       "      <td>2018-06-26 10:54:03</td>\n",
       "      <td>Tuesday</td>\n",
       "      <td>2018-06-26</td>\n",
       "      <td>11:00:00</td>\n",
       "      <td>3</td>\n",
       "    </tr>\n",
       "    <tr>\n",
       "      <th>4</th>\n",
       "      <td>Showbiz &amp; A.G.</td>\n",
       "      <td>Hold Mines</td>\n",
       "      <td>1998-05-24</td>\n",
       "      <td>234253</td>\n",
       "      <td>2018-06-26T10:54:57Z</td>\n",
       "      <td>1998</td>\n",
       "      <td>2018-06-26 10:54:57</td>\n",
       "      <td>Tuesday</td>\n",
       "      <td>2018-06-26</td>\n",
       "      <td>11:00:00</td>\n",
       "      <td>1</td>\n",
       "    </tr>\n",
       "  </tbody>\n",
       "</table>\n",
       "</div>"
      ],
      "text/plain": [
       "                                        artists                      tracks  \\\n",
       "0  Capone-N-Noreaga, Mobb Deep, Tragedy Khadafi     L.A., L.A. - Kuwait Mix   \n",
       "1                       Mack 10, Tha Dogg Pound    Nothin' But The Cavi Hit   \n",
       "2                                Showbiz & A.G.  Next Level - Nyte Time Mix   \n",
       "3              Showbiz & A.G., Big Pun, KRS-One               Drop It Heavy   \n",
       "4                                Showbiz & A.G.                  Hold Mines   \n",
       "\n",
       "  release_date  duration            date_added  release_year  \\\n",
       "0   1997-06-17    289666  2018-06-26T10:50:39Z          1997   \n",
       "1   2007-01-01    241360  2018-06-26T10:50:56Z          2007   \n",
       "2   2017-09-01    250780  2018-06-26T10:53:34Z          2017   \n",
       "3   1998-05-24    250066  2018-06-26T10:54:03Z          1998   \n",
       "4   1998-05-24    234253  2018-06-26T10:54:57Z          1998   \n",
       "\n",
       "        date_added_dt day_added date_added_yyyymmdd rounded_hour_added  \\\n",
       "0 2018-06-26 10:50:39   Tuesday          2018-06-26           11:00:00   \n",
       "1 2018-06-26 10:50:56   Tuesday          2018-06-26           11:00:00   \n",
       "2 2018-06-26 10:53:34   Tuesday          2018-06-26           11:00:00   \n",
       "3 2018-06-26 10:54:03   Tuesday          2018-06-26           11:00:00   \n",
       "4 2018-06-26 10:54:57   Tuesday          2018-06-26           11:00:00   \n",
       "\n",
       "   total_artists  \n",
       "0              3  \n",
       "1              2  \n",
       "2              1  \n",
       "3              3  \n",
       "4              1  "
      ]
     },
     "execution_count": 11,
     "metadata": {},
     "output_type": "execute_result"
    }
   ],
   "source": [
    "hiphop_df.head()"
   ]
  },
  {
   "cell_type": "markdown",
   "metadata": {},
   "source": [
    "#### A median release year of 2002 makes me an 'old head' but this is actually biased upward. The release date isn't very accurate, e.g. the Showbiz & AG album above came out in 1995. This release date may relate to a specific type of release/ reissue."
   ]
  },
  {
   "cell_type": "code",
   "execution_count": 12,
   "metadata": {},
   "outputs": [
    {
     "data": {
      "text/plain": [
       "2002.0"
      ]
     },
     "execution_count": 12,
     "metadata": {},
     "output_type": "execute_result"
    }
   ],
   "source": [
    "np.median(hiphop_df['release_year'])"
   ]
  },
  {
   "cell_type": "markdown",
   "metadata": {},
   "source": [
    "#### Create some useful groups to chart up"
   ]
  },
  {
   "cell_type": "code",
   "execution_count": 13,
   "metadata": {},
   "outputs": [],
   "source": [
    "def simple_grouper(df, by):\n",
    "    return (df.groupby(by).count()).reset_index()"
   ]
  },
  {
   "cell_type": "code",
   "execution_count": 14,
   "metadata": {},
   "outputs": [],
   "source": [
    "release_year_group = simple_grouper(hiphop_df, 'release_year')"
   ]
  },
  {
   "cell_type": "code",
   "execution_count": 15,
   "metadata": {},
   "outputs": [],
   "source": [
    "artist_group = simple_grouper(hiphop_df, 'artists')"
   ]
  },
  {
   "cell_type": "code",
   "execution_count": 16,
   "metadata": {},
   "outputs": [],
   "source": [
    "date_group = simple_grouper(hiphop_df, 'date_added_yyyymmdd')"
   ]
  },
  {
   "cell_type": "code",
   "execution_count": 17,
   "metadata": {},
   "outputs": [],
   "source": [
    "added_hour_group = simple_grouper(hiphop_df, 'rounded_hour_added')"
   ]
  },
  {
   "cell_type": "code",
   "execution_count": 18,
   "metadata": {},
   "outputs": [],
   "source": [
    "day_group = simple_grouper(hiphop_df, 'day_added')"
   ]
  },
  {
   "cell_type": "code",
   "execution_count": 19,
   "metadata": {},
   "outputs": [],
   "source": [
    "total_artists_group = simple_grouper(hiphop_df, 'total_artists')"
   ]
  },
  {
   "cell_type": "markdown",
   "metadata": {},
   "source": [
    "#### Modal release year is 1996. The distribution has a curious bimodal look to it."
   ]
  },
  {
   "cell_type": "markdown",
   "metadata": {},
   "source": [
    "#### Nas is clearly my favourite artist. Jay Z is surprisingly high given I don't like him that much. Also surprised to see Eminem in the top 20."
   ]
  },
  {
   "cell_type": "code",
   "execution_count": 20,
   "metadata": {},
   "outputs": [
    {
     "data": {
      "image/png": "[encoded data removed]"
     },
     "metadata": {},
     "output_type": "display_data"
    }
   ],
   "source": [
    "fig = px.bar(artist_group.nlargest(20, 'tracks'), x = 'artists', y = 'tracks', text = 'tracks')\n",
    "fig.show('png')"
   ]
  },
  {
   "cell_type": "markdown",
   "metadata": {},
   "source": [
    "#### 2020 was a comparatively quiet year for uploads for me."
   ]
  },
  {
   "cell_type": "code",
   "execution_count": 21,
   "metadata": {},
   "outputs": [
    {
     "data": {
      "image/png": "[encoded data removed]"
     },
     "metadata": {},
     "output_type": "display_data"
    }
   ],
   "source": [
    "fig = px.bar(date_group,x = 'date_added_yyyymmdd', y = 'tracks')\n",
    "fig.show('png')"
   ]
  },
  {
   "cell_type": "markdown",
   "metadata": {},
   "source": [
    "#### Some interesting times here, I'm clearly more likely to add a track to this playlist at around 4pm."
   ]
  },
  {
   "cell_type": "code",
   "execution_count": 22,
   "metadata": {},
   "outputs": [
    {
     "data": {
      "image/png": "[encoded data removed]"
     },
     "metadata": {},
     "output_type": "display_data"
    }
   ],
   "source": [
    "fig = px.bar(added_hour_group,x = 'rounded_hour_added', y = 'tracks', text = 'tracks')\n",
    "fig.show('png')"
   ]
  },
  {
   "cell_type": "markdown",
   "metadata": {},
   "source": [
    "#### Thursday, Friday and Saturday for the win, Monday is clearly a bad day."
   ]
  },
  {
   "cell_type": "code",
   "execution_count": 23,
   "metadata": {},
   "outputs": [
    {
     "data": {
      "image/png": "[encoded data removed]"
     },
     "metadata": {},
     "output_type": "display_data"
    }
   ],
   "source": [
    "fig = px.bar(day_group,x = 'day_added', y = 'tracks', text = 'tracks')\n",
    "fig.update_layout( xaxis={'categoryorder':'total descending'})\n",
    "fig.show('png')"
   ]
  },
  {
   "cell_type": "markdown",
   "metadata": {},
   "source": [
    "#### Majority of the tracks are solo but partial to a collaboration or two."
   ]
  },
  {
   "cell_type": "code",
   "execution_count": 24,
   "metadata": {},
   "outputs": [
    {
     "data": {
      "image/png": "[encoded data removed]"
     },
     "metadata": {},
     "output_type": "display_data"
    }
   ],
   "source": [
    "fig = px.bar(total_artists_group,x = 'total_artists', y = 'tracks', text = 'tracks')\n",
    "fig.show('png')"
   ]
  },
  {
   "cell_type": "code",
   "execution_count": null,
   "metadata": {},
   "outputs": [],
   "source": []
  }
 ],
 "metadata": {
  "kernelspec": {
   "display_name": "Python 3",
   "language": "python",
   "name": "python3"
  },
  "language_info": {
   "codemirror_mode": {
    "name": "ipython",
    "version": 3
   },
   "file_extension": ".py",
   "mimetype": "text/x-python",
   "name": "python",
   "nbconvert_exporter": "python",
   "pygments_lexer": "ipython3",
   "version": "3.7.6"
  }
 },
 "nbformat": 4,
 "nbformat_minor": 4
}
