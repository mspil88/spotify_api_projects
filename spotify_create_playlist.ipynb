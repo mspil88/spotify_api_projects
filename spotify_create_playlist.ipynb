{
 "cells": [
  {
   "cell_type": "markdown",
   "metadata": {},
   "source": [
    "## Let's create a playlist"
   ]
  },
  {
   "cell_type": "markdown",
   "metadata": {},
   "source": [
    "### I really like jazz and soul/ jazz so I'm going to create a playlist. Here I will pass a number of artists to my class and recover the most 'popular' tracks for these artists and populate my new playlist with them. "
   ]
  },
  {
   "cell_type": "code",
   "execution_count": 1,
   "metadata": {},
   "outputs": [],
   "source": [
    "from secrets import *\n",
    "from spotify_user import *\n",
    "import plotly.express as px\n"
   ]
  },
  {
   "cell_type": "code",
   "execution_count": 3,
   "metadata": {},
   "outputs": [],
   "source": [
    "s = SpotifyUser(OAUTH_TOKEN, CLIENT_ID, USER_ID)"
   ]
  },
  {
   "cell_type": "code",
   "execution_count": 36,
   "metadata": {},
   "outputs": [],
   "source": [
    "jazz_playlist = s.create_playlist('esoteric_jazz')"
   ]
  },
  {
   "cell_type": "code",
   "execution_count": 22,
   "metadata": {},
   "outputs": [],
   "source": [
    "artists = ['henry mancini', 'cal tjader', 'john klemmer', 'yuji ohno', 'tim maia', \n",
    "           'earl klugh', 'bob james', 'soft machine', 'arawak', 'lonnie liston smith', 'donald byrd', 'chet baker',\n",
    "          'joe sample', 'hubert laws', 'stanley clark'] "
   ]
  },
  {
   "cell_type": "code",
   "execution_count": 32,
   "metadata": {},
   "outputs": [],
   "source": [
    "def get_artist_ids_and_track_uris(artist_list):\n",
    "    ids = {}\n",
    "    tracks_to_send = []\n",
    "    for i in artist_list:\n",
    "        ids[i] = s.get_artist_id(i, 'artist')\n",
    "    \n",
    "    for i in ids:\n",
    "        tracks_to_send.append(list(s.get_artists_top_tracks(ids[i]).values()))\n",
    "    \n",
    "    return [i for s in tracks_to_send for i in s]\n",
    "    "
   ]
  },
  {
   "cell_type": "code",
   "execution_count": 34,
   "metadata": {},
   "outputs": [
    {
     "name": "stdout",
     "output_type": "stream",
     "text": [
      "Note there are more than one IDs, the most popular is being returned\n",
      "Note there are more than one IDs, the most popular is being returned\n",
      "Note there are more than one IDs, the most popular is being returned\n",
      "Note there are more than one IDs, the most popular is being returned\n",
      "Note there are more than one IDs, the most popular is being returned\n",
      "Note there are more than one IDs, the most popular is being returned\n",
      "Note there are more than one IDs, the most popular is being returned\n",
      "Note there are more than one IDs, the most popular is being returned\n",
      "Note there are more than one IDs, the most popular is being returned\n",
      "Note there are more than one IDs, the most popular is being returned\n",
      "Note there are more than one IDs, the most popular is being returned\n",
      "Note there are more than one IDs, the most popular is being returned\n",
      "Note there are more than one IDs, the most popular is being returned\n",
      "Note there are more than one IDs, the most popular is being returned\n",
      "Note there are more than one IDs, the most popular is being returned\n",
      "https://api.spotify.com/v1/artists/2EExdpjU4SK3xnJHO5paJf/top-tracks?market=US\n",
      "https://api.spotify.com/v1/artists/3XOVABzceOUTbR3iEz0ImO/top-tracks?market=US\n",
      "https://api.spotify.com/v1/artists/6HkwRgGXuqTufwpEh2dwGK/top-tracks?market=US\n",
      "https://api.spotify.com/v1/artists/7xIfi0ePXzLGlYO5lFjnvu/top-tracks?market=US\n",
      "https://api.spotify.com/v1/artists/0jOs0wnXCu1bGGP7kh5uIu/top-tracks?market=US\n",
      "https://api.spotify.com/v1/artists/00Nnsh2ykMBYnCDsSFGXSY/top-tracks?market=US\n",
      "https://api.spotify.com/v1/artists/6ryjbFyWBZho9KGXqKZdqQ/top-tracks?market=US\n",
      "https://api.spotify.com/v1/artists/5A0MH7JfEBEMySevsmauds/top-tracks?market=US\n",
      "https://api.spotify.com/v1/artists/49h2ZvYkhZts64fbW9xhw7/top-tracks?market=US\n",
      "https://api.spotify.com/v1/artists/2hdpXvaQJHBCZIVUd6cLvK/top-tracks?market=US\n",
      "https://api.spotify.com/v1/artists/3ZUZYvTkSr7kJQyAXVpqaL/top-tracks?market=US\n",
      "https://api.spotify.com/v1/artists/3rxeQlsv0Sc2nyYaZ5W71T/top-tracks?market=US\n",
      "https://api.spotify.com/v1/artists/4H2b90USTVSstPktwUsDZE/top-tracks?market=US\n",
      "https://api.spotify.com/v1/artists/2Mb147hrrMIoAy425UZkhv/top-tracks?market=US\n",
      "https://api.spotify.com/v1/artists/6SpzArrfH4YAnmLdHk3kdz/top-tracks?market=US\n"
     ]
    }
   ],
   "source": [
    "tracks = get_artist_ids_and_track_uris(artists)"
   ]
  },
  {
   "cell_type": "code",
   "execution_count": 37,
   "metadata": {},
   "outputs": [
    {
     "data": {
      "text/plain": [
       "{'error': {'status': 400,\n",
       "  'message': 'You can add a maximum of 100 tracks per request.'}}"
      ]
     },
     "execution_count": 37,
     "metadata": {},
     "output_type": "execute_result"
    }
   ],
   "source": [
    "s.add_tracks_to_playlist(jazz_playlist['esoteric_jazz'], tracks)"
   ]
  },
  {
   "cell_type": "code",
   "execution_count": 38,
   "metadata": {},
   "outputs": [
    {
     "data": {
      "text/plain": [
       "142"
      ]
     },
     "execution_count": 38,
     "metadata": {},
     "output_type": "execute_result"
    }
   ],
   "source": [
    "len(tracks)"
   ]
  },
  {
   "cell_type": "code",
   "execution_count": 45,
   "metadata": {},
   "outputs": [],
   "source": [
    "batches = [tracks[:100], tracks[100:]]"
   ]
  },
  {
   "cell_type": "code",
   "execution_count": 46,
   "metadata": {},
   "outputs": [],
   "source": [
    "for batch in batches:\n",
    "    s.add_tracks_to_playlist(jazz_playlist['esoteric_jazz'], batch)"
   ]
  },
  {
   "cell_type": "code",
   "execution_count": 47,
   "metadata": {},
   "outputs": [],
   "source": [
    "esoteric_jazz_tracks = s.get_playlist_tracks('esoteric_jazz', get_all=True)"
   ]
  },
  {
   "cell_type": "code",
   "execution_count": 49,
   "metadata": {},
   "outputs": [
    {
     "data": {
      "text/html": [
       "<div>\n",
       "<style scoped>\n",
       "    .dataframe tbody tr th:only-of-type {\n",
       "        vertical-align: middle;\n",
       "    }\n",
       "\n",
       "    .dataframe tbody tr th {\n",
       "        vertical-align: top;\n",
       "    }\n",
       "\n",
       "    .dataframe thead th {\n",
       "        text-align: right;\n",
       "    }\n",
       "</style>\n",
       "<table border=\"1\" class=\"dataframe\">\n",
       "  <thead>\n",
       "    <tr style=\"text-align: right;\">\n",
       "      <th></th>\n",
       "      <th>artists</th>\n",
       "      <th>tracks</th>\n",
       "      <th>release_date</th>\n",
       "      <th>duration</th>\n",
       "      <th>date_added</th>\n",
       "    </tr>\n",
       "  </thead>\n",
       "  <tbody>\n",
       "    <tr>\n",
       "      <th>0</th>\n",
       "      <td>Henry Mancini</td>\n",
       "      <td>Moon River(Vocal Audrey Hepburn)</td>\n",
       "      <td>1961</td>\n",
       "      <td>125585</td>\n",
       "      <td>2021-02-11T20:45:48Z</td>\n",
       "    </tr>\n",
       "    <tr>\n",
       "      <th>1</th>\n",
       "      <td>Henry Mancini</td>\n",
       "      <td>Moon River(Original Main Title)</td>\n",
       "      <td>1961</td>\n",
       "      <td>159744</td>\n",
       "      <td>2021-02-11T20:45:48Z</td>\n",
       "    </tr>\n",
       "    <tr>\n",
       "      <th>2</th>\n",
       "      <td>Henry Mancini</td>\n",
       "      <td>Pink Panther Theme</td>\n",
       "      <td>2006-01-01</td>\n",
       "      <td>161600</td>\n",
       "      <td>2021-02-11T20:45:48Z</td>\n",
       "    </tr>\n",
       "    <tr>\n",
       "      <th>3</th>\n",
       "      <td>Henry Mancini</td>\n",
       "      <td>Lujon</td>\n",
       "      <td>1961-01-01</td>\n",
       "      <td>158360</td>\n",
       "      <td>2021-02-11T20:45:48Z</td>\n",
       "    </tr>\n",
       "    <tr>\n",
       "      <th>4</th>\n",
       "      <td>Henry Mancini</td>\n",
       "      <td>Moon River</td>\n",
       "      <td>1958</td>\n",
       "      <td>160693</td>\n",
       "      <td>2021-02-11T20:45:48Z</td>\n",
       "    </tr>\n",
       "    <tr>\n",
       "      <th>...</th>\n",
       "      <td>...</td>\n",
       "      <td>...</td>\n",
       "      <td>...</td>\n",
       "      <td>...</td>\n",
       "      <td>...</td>\n",
       "    </tr>\n",
       "    <tr>\n",
       "      <th>37</th>\n",
       "      <td>Hubert Laws</td>\n",
       "      <td>No More</td>\n",
       "      <td>1973</td>\n",
       "      <td>299293</td>\n",
       "      <td>2021-02-11T20:45:48Z</td>\n",
       "    </tr>\n",
       "    <tr>\n",
       "      <th>38</th>\n",
       "      <td>Hubert Laws</td>\n",
       "      <td>All Soul</td>\n",
       "      <td>2005-04-19</td>\n",
       "      <td>227533</td>\n",
       "      <td>2021-02-11T20:45:48Z</td>\n",
       "    </tr>\n",
       "    <tr>\n",
       "      <th>39</th>\n",
       "      <td>Hubert Laws, Earl Klugh</td>\n",
       "      <td>Piccolo Boogie</td>\n",
       "      <td>1980-11-18</td>\n",
       "      <td>267706</td>\n",
       "      <td>2021-02-11T20:45:48Z</td>\n",
       "    </tr>\n",
       "    <tr>\n",
       "      <th>40</th>\n",
       "      <td>Stanley Clark, Joe Satriani</td>\n",
       "      <td>Hair (feat. Joe Satriani)</td>\n",
       "      <td>2010-12-14</td>\n",
       "      <td>315000</td>\n",
       "      <td>2021-02-11T20:45:48Z</td>\n",
       "    </tr>\n",
       "    <tr>\n",
       "      <th>41</th>\n",
       "      <td>Horaţiu Rădulescu, Catherine Marie Tunnell, Stanley Clark</td>\n",
       "      <td>Immersed in the Wonder II, Op. 96</td>\n",
       "      <td>2019-05-03</td>\n",
       "      <td>519765</td>\n",
       "      <td>2021-02-11T20:45:48Z</td>\n",
       "    </tr>\n",
       "  </tbody>\n",
       "</table>\n",
       "<p>142 rows × 5 columns</p>\n",
       "</div>"
      ],
      "text/plain": [
       "                                                      artists  \\\n",
       "0                                               Henry Mancini   \n",
       "1                                               Henry Mancini   \n",
       "2                                               Henry Mancini   \n",
       "3                                               Henry Mancini   \n",
       "4                                               Henry Mancini   \n",
       "..                                                        ...   \n",
       "37                                                Hubert Laws   \n",
       "38                                                Hubert Laws   \n",
       "39                                    Hubert Laws, Earl Klugh   \n",
       "40                                Stanley Clark, Joe Satriani   \n",
       "41  Horaţiu Rădulescu, Catherine Marie Tunnell, Stanley Clark   \n",
       "\n",
       "                               tracks release_date  duration  \\\n",
       "0    Moon River(Vocal Audrey Hepburn)         1961    125585   \n",
       "1     Moon River(Original Main Title)         1961    159744   \n",
       "2                  Pink Panther Theme   2006-01-01    161600   \n",
       "3                               Lujon   1961-01-01    158360   \n",
       "4                          Moon River         1958    160693   \n",
       "..                                ...          ...       ...   \n",
       "37                            No More         1973    299293   \n",
       "38                           All Soul   2005-04-19    227533   \n",
       "39                     Piccolo Boogie   1980-11-18    267706   \n",
       "40          Hair (feat. Joe Satriani)   2010-12-14    315000   \n",
       "41  Immersed in the Wonder II, Op. 96   2019-05-03    519765   \n",
       "\n",
       "              date_added  \n",
       "0   2021-02-11T20:45:48Z  \n",
       "1   2021-02-11T20:45:48Z  \n",
       "2   2021-02-11T20:45:48Z  \n",
       "3   2021-02-11T20:45:48Z  \n",
       "4   2021-02-11T20:45:48Z  \n",
       "..                   ...  \n",
       "37  2021-02-11T20:45:48Z  \n",
       "38  2021-02-11T20:45:48Z  \n",
       "39  2021-02-11T20:45:48Z  \n",
       "40  2021-02-11T20:45:48Z  \n",
       "41  2021-02-11T20:45:48Z  \n",
       "\n",
       "[142 rows x 5 columns]"
      ]
     },
     "execution_count": 49,
     "metadata": {},
     "output_type": "execute_result"
    }
   ],
   "source": [
    "esoteric_jazz_tracks"
   ]
  }
 ],
 "metadata": {
  "kernelspec": {
   "display_name": "Python 3",
   "language": "python",
   "name": "python3"
  },
  "language_info": {
   "codemirror_mode": {
    "name": "ipython",
    "version": 3
   },
   "file_extension": ".py",
   "mimetype": "text/x-python",
   "name": "python",
   "nbconvert_exporter": "python",
   "pygments_lexer": "ipython3",
   "version": "3.7.6"
  }
 },
 "nbformat": 4,
 "nbformat_minor": 4
}
